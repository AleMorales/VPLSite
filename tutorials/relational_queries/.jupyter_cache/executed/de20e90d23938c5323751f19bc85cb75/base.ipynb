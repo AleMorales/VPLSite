{
 "cells": [
  {
   "cell_type": "code",
   "execution_count": 1,
   "id": "4957a2b3",
   "metadata": {},
   "outputs": [],
   "source": [
    "import IJulia\n",
    "\n",
    "# The julia kernel has built in support for Revise.jl, so this is the \n",
    "# recommended approach for long-running sessions:\n",
    "# https://github.com/JuliaLang/IJulia.jl/blob/9b10fa9b879574bbf720f5285029e07758e50a5e/src/kernel.jl#L46-L51\n",
    "\n",
    "# Users should enable revise within .julia/config/startup_ijulia.jl:\n",
    "# https://timholy.github.io/Revise.jl/stable/config/#Using-Revise-automatically-within-Jupyter/IJulia-1\n",
    "\n",
    "# clear console history\n",
    "IJulia.clear_history()\n",
    "\n",
    "# Intialize Plots w/ default fig width/height\n",
    "try\n",
    "  fig_width = 7\n",
    "  fig_height = 5\n",
    "  fig_format = :png\n",
    "  fig_dpi = 96\n",
    "  # no retina format type, use svg for high quality type/marks\n",
    "  if fig_format == :retina\n",
    "    fig_format = :svg\n",
    "  # IJulia doesn't support PDF output so use png (if the DPI \n",
    "  # remains the default of 300 then set to 96)\n",
    "  elseif fig_format == :pdf\n",
    "    fig_format = :png\n",
    "    fig_dpi = 96\n",
    "  end\n",
    "  # convert inches to pixels\n",
    "  fig_width = fig_width * fig_dpi\n",
    "  fig_height = fig_height * fig_dpi\n",
    "  using Plots\n",
    "  gr(size=(fig_width, fig_height), fmt = fig_format, dpi = fig_dpi)\n",
    "catch e\n",
    "  # @warn \"Plots init\" exception=(e, catch_backtrace())\n",
    "end\n",
    "\n",
    "# don't return kernel dependencies (b/c Revise should take care of dependencies)\n",
    "nothing\n"
   ]
  },
  {
   "cell_type": "code",
   "execution_count": 2,
   "id": "411898ef",
   "metadata": {},
   "outputs": [
    {
     "data": {
      "application/vnd.webio.node+json": {
       "children": [],
       "instanceArgs": {
        "namespace": "html",
        "tag": "div"
       },
       "nodeType": "DOM",
       "props": {},
       "type": "node"
      },
      "text/html": [
       "<div style=\"padding: 1em; background-color: #f8d6da; border: 1px solid #f5c6cb; font-weight: bold;\">\n",
       "<p>The WebIO Jupyter extension was not detected. See the\n",
       "<a href=\"https://juliagizmos.github.io/WebIO.jl/latest/providers/ijulia/\" target=\"_blank\">\n",
       "    WebIO Jupyter integration documentation\n",
       "</a>\n",
       "for more information.\n",
       "</div>\n"
      ],
      "text/plain": [
       "WebIO._IJuliaInit()"
      ]
     },
     "metadata": {},
     "output_type": "display_data"
    }
   ],
   "source": [
    "#| code-fold: false\n",
    "using VPL\n",
    "\n",
    "struct A <: Node end\n",
    "\n",
    "struct C <: Node\n",
    "    val::Float64\n",
    "end\n",
    "\n",
    "struct B <: Node\n",
    "    ID::Int\n",
    "end"
   ]
  },
  {
   "cell_type": "code",
   "execution_count": 3,
   "id": "0ee75db0",
   "metadata": {},
   "outputs": [],
   "source": [
    "#| code-fold: false\n",
    "motif(n, i = 0) = A() + (C(45.0) + A() + (C(45.0) +  A() + B(i + 1), \n",
    "                                           C(-45.0) + A() + B(i + 2), \n",
    "                                                       A() + B(i + 3)), \n",
    "                         C(- 45.0) + sum(A() for i in 1:n) + B(i + 4))\n",
    "axiom =  motif(3, 0) + motif(2, 4) + motif(1, 8) + A() + A() + B(13)\n",
    "graph = Graph(axiom);"
   ]
  },
  {
   "cell_type": "code",
   "execution_count": 4,
   "id": "fe92994c",
   "metadata": {},
   "outputs": [],
   "source": [
    "#| code-fold: false\n",
    "VPL.get_id(node_id, data::A) = \"A\"\n",
    "VPL.get_id(node_id, data::C) = \"C\"*ifelse(sign(data.val) > 0.0, \"+\", \"-\")\n",
    "VPL.get_id(node_id, data::B) = \"B(\"*string(data.ID)*\")\""
   ]
  },
  {
   "cell_type": "code",
   "execution_count": 5,
   "id": "069a4b52",
   "metadata": {},
   "outputs": [
    {
     "data": {
      "text/plain": [
       "Blink.AtomShell.Window(1, Blink.AtomShell.Electron(Process(`\u001b[4m'C:\\Users\\moral\\.julia\\packages\\Blink\\mwJC9\\deps\\atom\\electron.exe'\u001b[24m \u001b[4m'C:\\Users\\moral\\.julia\\packages\\Blink\\mwJC9\\src\\AtomShell\\main.js'\u001b[24m \u001b[4mport\u001b[24m \u001b[4m7957\u001b[24m`, ProcessRunning), Sockets.TCPSocket(Base.Libc.WindowsRawSocket(0x0000000000000758) active, 0 bytes waiting), Dict{String, Any}(\"callback\" => Blink.var\"#1#2\"())), Blink.Page(1, WebSocket(server, \u001b[32mCONNECTED\u001b[39m), Dict{String, Any}(\"webio\" => Blink.AtomShell.var\"#22#23\"{Blink.AtomShell.WebIOBlinkComm}(Blink.AtomShell.WebIOBlinkComm(Blink.AtomShell.Window(#= circular reference @-5 =#))), \"callback\" => Blink.var\"#1#2\"()), Distributed.Future(1, 1, 1, ReentrantLock(nothing, Base.GenericCondition{Base.Threads.SpinLock}(Base.InvasiveLinkedList{Task}(nothing, nothing), Base.Threads.SpinLock(0)), 0), Some(true))), Task (done) @0x0000000078360f90)"
      ]
     },
     "execution_count": 5,
     "metadata": {},
     "output_type": "execute_result"
    }
   ],
   "source": [
    "#| code-fold: false\n",
    "draw(graph)"
   ]
  },
  {
   "cell_type": "code",
   "execution_count": 6,
   "id": "9a03a9f3",
   "metadata": {},
   "outputs": [
    {
     "data": {
      "text/plain": [
       "Query object for nodes of type B\n"
      ]
     },
     "execution_count": 6,
     "metadata": {},
     "output_type": "execute_result"
    }
   ],
   "source": [
    "#| code-fold: false\n",
    "Q1 = Query(B)"
   ]
  },
  {
   "cell_type": "code",
   "execution_count": 7,
   "id": "e28a74ec",
   "metadata": {},
   "outputs": [
    {
     "data": {
      "text/plain": [
       "13-element Vector{B}:\n",
       " B(7)\n",
       " B(8)\n",
       " B(3)\n",
       " B(10)\n",
       " B(5)\n",
       " B(6)\n",
       " B(2)\n",
       " B(12)\n",
       " B(1)\n",
       " B(11)\n",
       " B(13)\n",
       " B(9)\n",
       " B(4)"
      ]
     },
     "execution_count": 7,
     "metadata": {},
     "output_type": "execute_result"
    }
   ],
   "source": [
    "#| code-fold: false\n",
    "A1 = apply(graph, Q1)"
   ]
  },
  {
   "cell_type": "code",
   "execution_count": 8,
   "id": "5768114f",
   "metadata": {},
   "outputs": [
    {
     "data": {
      "text/plain": [
       "Q2_fun (generic function with 1 method)"
      ]
     },
     "execution_count": 8,
     "metadata": {},
     "output_type": "execute_result"
    }
   ],
   "source": [
    "function Q2_fun(n)\n",
    "    check, steps = hasAncestor(n, x -> data(x) isa C)\n",
    "    !check\n",
    "end"
   ]
  },
  {
   "cell_type": "code",
   "execution_count": 9,
   "id": "9528f457",
   "metadata": {},
   "outputs": [
    {
     "data": {
      "text/plain": [
       "1-element Vector{B}:\n",
       " B(13)"
      ]
     },
     "execution_count": 9,
     "metadata": {},
     "output_type": "execute_result"
    }
   ],
   "source": [
    "Q2 = Query(B, Q2_fun)\n",
    "A2 = apply(graph, Q2)"
   ]
  },
  {
   "cell_type": "code",
   "execution_count": 10,
   "id": "3f8bb34d",
   "metadata": {},
   "outputs": [
    {
     "data": {
      "text/plain": [
       "Q3_fun (generic function with 1 method)"
      ]
     },
     "execution_count": 10,
     "metadata": {},
     "output_type": "execute_result"
    }
   ],
   "source": [
    "function branch_motif(p)\n",
    "    data(p) isa A && \n",
    "    hasDescendent(p, x -> data(x) isa C && data(x).val < 0.0) &&\n",
    "    hasAncestor(p, x -> data(x) isa C && data(x).val > 0.0)[1]\n",
    "end\n",
    "\n",
    "function Q3_fun(n, nsteps)\n",
    "    # Condition 1\n",
    "    check, steps = hasAncestor(n, branch_motif)\n",
    "    !check && return false\n",
    "    # Condition 2\n",
    "    p = parent(n, steps)\n",
    "    check, steps = hasAncestor(p, isRoot)\n",
    "    steps != nsteps && return false\n",
    "    return true\n",
    "end"
   ]
  },
  {
   "cell_type": "code",
   "execution_count": 11,
   "id": "5fe31666",
   "metadata": {},
   "outputs": [
    {
     "data": {
      "text/plain": [
       "3-element Vector{B}:\n",
       " B(3)\n",
       " B(2)\n",
       " B(1)"
      ]
     },
     "execution_count": 11,
     "metadata": {},
     "output_type": "execute_result"
    }
   ],
   "source": [
    "Q3 = Query(B, n -> Q3_fun(n, 2))\n",
    "A3 = apply(graph, Q3)"
   ]
  },
  {
   "cell_type": "code",
   "execution_count": 12,
   "id": "3e0b4876",
   "metadata": {},
   "outputs": [
    {
     "data": {
      "text/plain": [
       "Q4_fun (generic function with 1 method)"
      ]
     },
     "execution_count": 12,
     "metadata": {},
     "output_type": "execute_result"
    }
   ],
   "source": [
    "function Q4_fun(n)\n",
    "    !hasAncestor(n, x -> !isRoot(x) && length(children(x)) > 1)[1]\n",
    "end"
   ]
  },
  {
   "cell_type": "code",
   "execution_count": 13,
   "id": "cbfaf392",
   "metadata": {},
   "outputs": [
    {
     "data": {
      "text/plain": [
       "1-element Vector{B}:\n",
       " B(4)"
      ]
     },
     "execution_count": 13,
     "metadata": {},
     "output_type": "execute_result"
    }
   ],
   "source": [
    "Q4 = Query(B, Q4_fun)\n",
    "A4 = apply(graph, Q4)"
   ]
  },
  {
   "cell_type": "code",
   "execution_count": 14,
   "id": "029544c2",
   "metadata": {},
   "outputs": [
    {
     "data": {
      "text/plain": [
       "1-element Vector{B}:\n",
       " B(3)"
      ]
     },
     "execution_count": 14,
     "metadata": {},
     "output_type": "execute_result"
    }
   ],
   "source": [
    "function Q5_fun(n)\n",
    "    check, steps = hasAncestor(n, isRoot)\n",
    "    steps == 4\n",
    "end\n",
    "\n",
    "Q5 = Query(B, Q5_fun)\n",
    "A5 = apply(graph, Q5)"
   ]
  },
  {
   "cell_type": "code",
   "execution_count": 15,
   "id": "c64686f6",
   "metadata": {},
   "outputs": [
    {
     "data": {
      "text/plain": [
       "1-element Vector{B}:\n",
       " B(7)"
      ]
     },
     "execution_count": 15,
     "metadata": {},
     "output_type": "execute_result"
    }
   ],
   "source": [
    "function Q6_fun(n, nA)\n",
    "    check = Q3_fun(n, nA)\n",
    "    !check && return false\n",
    "    p2 = parent(n,2)\n",
    "    data(p2) isa A\n",
    "end\n",
    "\n",
    "Q6 = Query(B, n -> Q6_fun(n, 3))\n",
    "A6 = apply(graph, Q6)"
   ]
  },
  {
   "cell_type": "code",
   "execution_count": 16,
   "id": "5cec229b",
   "metadata": {},
   "outputs": [
    {
     "data": {
      "text/plain": [
       "2-element Vector{B}:\n",
       " B(11)\n",
       " B(13)"
      ]
     },
     "execution_count": 16,
     "metadata": {},
     "output_type": "execute_result"
    }
   ],
   "source": [
    "Q7 = Query(B, n -> Q6_fun(n, 4) || Q2_fun(n))\n",
    "A7 = apply(graph, Q7)"
   ]
  },
  {
   "cell_type": "code",
   "execution_count": 17,
   "id": "396af77b",
   "metadata": {},
   "outputs": [
    {
     "data": {
      "text/plain": [
       "3-element Vector{B}:\n",
       " B(5)\n",
       " B(1)\n",
       " B(9)"
      ]
     },
     "execution_count": 17,
     "metadata": {},
     "output_type": "execute_result"
    }
   ],
   "source": [
    "function Q8_fun(n)\n",
    "    p1 = parent(n)\n",
    "    p2 = parent(n, 2)\n",
    "    p3 = parent(n, 3)\n",
    "    data(p1) isa A && data(p2) isa C && data(p2).val > 0.0 && data(p3) isa A\n",
    "end\n",
    "\n",
    "Q8 = Query(B, Q8_fun)\n",
    "A8 = apply(graph, Q8)"
   ]
  },
  {
   "cell_type": "code",
   "execution_count": 18,
   "id": "3f7e4c81",
   "metadata": {},
   "outputs": [
    {
     "data": {
      "text/plain": [
       "3-element Vector{B}:\n",
       " B(10)\n",
       " B(6)\n",
       " B(2)"
      ]
     },
     "execution_count": 18,
     "metadata": {},
     "output_type": "execute_result"
    }
   ],
   "source": [
    "function Q9_fun(n)\n",
    "    p1 = parent(n)\n",
    "    p2 = parent(n, 2)\n",
    "    p3 = parent(n, 3)\n",
    "    p4 = parent(n, 4)\n",
    "    data(p1) isa A && data(p2) isa C && data(p2).val < 0.0 && \n",
    "       data(p3) isa A && data(p4) isa C\n",
    "end\n",
    "\n",
    "Q9 = Query(B, Q9_fun)\n",
    "A9 = apply(graph, Q9)"
   ]
  },
  {
   "cell_type": "code",
   "execution_count": 19,
   "id": "bf7e8116",
   "metadata": {},
   "outputs": [
    {
     "data": {
      "text/plain": [
       "3-element Vector{B}:\n",
       " B(7)\n",
       " B(8)\n",
       " B(6)"
      ]
     },
     "execution_count": 19,
     "metadata": {},
     "output_type": "execute_result"
    }
   ],
   "source": [
    "function Q10_fun(n)\n",
    "    Q6_fun(n, 3) && return true # Check node 7\n",
    "    Q9_fun(n) && hasAncestor(n, isRoot)[2] == 6 && return true # Check node 6\n",
    "    hasAncestor(n, isRoot)[2] == 5 && data(parent(n, 3)) isa C && return true # Check node 8 (and not 4!)\n",
    "end\n",
    "\n",
    "Q10 = Query(B, Q10_fun)\n",
    "A10 = apply(graph, Q10)"
   ]
  },
  {
   "cell_type": "code",
   "execution_count": 20,
   "id": "8cfd649d",
   "metadata": {},
   "outputs": [
    {
     "data": {
      "text/plain": [
       "4-element Vector{B}:\n",
       " B(7)\n",
       " B(3)\n",
       " B(12)\n",
       " B(11)"
      ]
     },
     "execution_count": 20,
     "metadata": {},
     "output_type": "execute_result"
    }
   ],
   "source": [
    "function Q11_fun(n)\n",
    "    Q5_fun(n) && return true # 3\n",
    "    Q6_fun(n, 3) && return true # 7\n",
    "    Q6_fun(n, 4) && return true # 11\n",
    "    hasAncestor(n, isRoot)[2] == 5 && data(parent(n, 2)) isa C && \n",
    "        data(parent(n, 4)) isa A && return true # 12\n",
    "end\n",
    "\n",
    "Q11 = Query(B, Q11_fun)\n",
    "A11 = apply(graph, Q11)"
   ]
  },
  {
   "cell_type": "code",
   "execution_count": 21,
   "id": "01bd429e",
   "metadata": {},
   "outputs": [
    {
     "data": {
      "text/plain": [
       "2-element Vector{B}:\n",
       " B(7)\n",
       " B(12)"
      ]
     },
     "execution_count": 21,
     "metadata": {},
     "output_type": "execute_result"
    }
   ],
   "source": [
    "function Q12_fun(n)\n",
    "    Q6_fun(n, 3) && return true # 7\n",
    "    hasAncestor(n, isRoot)[2] == 5 && data(parent(n, 2)) isa C && \n",
    "        data(parent(n, 4)) isa A && return true # 12\n",
    "end\n",
    "\n",
    "Q12 = Query(B, Q12_fun)\n",
    "A12 = apply(graph, Q12)"
   ]
  }
 ],
 "metadata": {
  "kernelspec": {
   "display_name": "Julia 1.7.2",
   "language": "julia",
   "name": "julia-1.7"
  },
  "language_info": {
   "file_extension": ".jl",
   "mimetype": "application/julia",
   "name": "julia",
   "version": "1.7.2"
  }
 },
 "nbformat": 4,
 "nbformat_minor": 5
}