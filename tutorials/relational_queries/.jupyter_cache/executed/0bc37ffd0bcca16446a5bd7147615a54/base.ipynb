{
 "cells": [
  {
   "cell_type": "code",
   "execution_count": 1,
   "id": "e5346033",
   "metadata": {},
   "outputs": [],
   "source": [
    "import IJulia\n",
    "\n",
    "# The julia kernel has built in support for Revise.jl, so this is the \n",
    "# recommended approach for long-running sessions:\n",
    "# https://github.com/JuliaLang/IJulia.jl/blob/9b10fa9b879574bbf720f5285029e07758e50a5e/src/kernel.jl#L46-L51\n",
    "\n",
    "# Users should enable revise within .julia/config/startup_ijulia.jl:\n",
    "# https://timholy.github.io/Revise.jl/stable/config/#Using-Revise-automatically-within-Jupyter/IJulia-1\n",
    "\n",
    "# clear console history\n",
    "IJulia.clear_history()\n",
    "\n",
    "# Intialize Plots w/ default fig width/height\n",
    "try\n",
    "  fig_width = 7\n",
    "  fig_height = 5\n",
    "  fig_format = :retina\n",
    "  fig_dpi = 96\n",
    "  # no retina format type, use svg for high quality type/marks\n",
    "  if fig_format == :retina\n",
    "    fig_format = :svg\n",
    "  # IJulia doesn't support PDF output so use png (if the DPI \n",
    "  # remains the default of 300 then set to 96)\n",
    "  elseif fig_format == :pdf\n",
    "    fig_format = :png\n",
    "    fig_dpi = 96\n",
    "  end\n",
    "  # convert inches to pixels\n",
    "  fig_width = fig_width * fig_dpi\n",
    "  fig_height = fig_height * fig_dpi\n",
    "  using Plots\n",
    "  gr(size=(fig_width, fig_height), fmt = fig_format, dpi = fig_dpi)\n",
    "catch e\n",
    "  # @warn \"Plots init\" exception=(e, catch_backtrace())\n",
    "end\n",
    "\n",
    "# don't return kernel dependencies (b/c Revise should take care of dependencies)\n",
    "nothing\n"
   ]
  },
  {
   "cell_type": "code",
   "execution_count": 2,
   "id": "8b44b189",
   "metadata": {},
   "outputs": [],
   "source": [
    "#| code-fold: false\n",
    "using VPL\n",
    "\n",
    "struct A <: Node end\n",
    "\n",
    "struct C <: Node\n",
    "    val::Float64\n",
    "end\n",
    "\n",
    "struct B <: Node\n",
    "    ID::Int\n",
    "end"
   ]
  },
  {
   "cell_type": "code",
   "execution_count": 3,
   "id": "c00987f1",
   "metadata": {},
   "outputs": [],
   "source": [
    "#| code-fold: false\n",
    "motif(n, i = 0) = A() + (C(45.0) + A() + (C(45.0) +  A() + B(i + 1), \n",
    "                                           C(-45.0) + A() + B(i + 2), \n",
    "                                                       A() + B(i + 3)), \n",
    "                         C(- 45.0) + sum(A() for i in 1:n) + B(i + 4))\n",
    "axiom =  motif(3, 0) + motif(2, 4) + motif(1, 8) + A() + A() + B(13)\n",
    "graph = Graph(axiom);"
   ]
  },
  {
   "cell_type": "code",
   "execution_count": 4,
   "id": "03ca874d",
   "metadata": {},
   "outputs": [],
   "source": [
    "#| code-fold: false\n",
    "VPL.get_id(node_id, data::A) = \"A\"\n",
    "VPL.get_id(node_id, data::C) = \"C\"*ifelse(sign(data.val) > 0.0, \"+\", \"-\")\n",
    "VPL.get_id(node_id, data::B) = \"B(\"*string(data.ID)*\")\""
   ]
  },
  {
   "cell_type": "code",
   "execution_count": 5,
   "id": "e4a2f1c7",
   "metadata": {},
   "outputs": [
    {
     "data": {
      "text/plain": [
       "Blink.AtomShell.Window(2, Blink.AtomShell.Electron(Process(`\u001b[4m'C:\\Users\\moral\\.julia\\packages\\Blink\\mwJC9\\deps\\atom\\electron.exe'\u001b[24m \u001b[4m'C:\\Users\\moral\\.julia\\packages\\Blink\\mwJC9\\src\\AtomShell\\main.js'\u001b[24m \u001b[4mport\u001b[24m \u001b[4m7957\u001b[24m`, ProcessRunning), Sockets.TCPSocket(Base.Libc.WindowsRawSocket(0x0000000000000758) active, 0 bytes waiting), Dict{String, Any}(\"callback\" => Blink.var\"#1#2\"())), Blink.Page(2, WebSocket(server, \u001b[32mCONNECTED\u001b[39m), Dict{String, Any}(\"webio\" => Blink.AtomShell.var\"#22#23\"{Blink.AtomShell.WebIOBlinkComm}(Blink.AtomShell.WebIOBlinkComm(Blink.AtomShell.Window(#= circular reference @-5 =#))), \"callback\" => Blink.var\"#1#2\"()), Distributed.Future(1, 1, 2, ReentrantLock(nothing, Base.GenericCondition{Base.Threads.SpinLock}(Base.InvasiveLinkedList{Task}(nothing, nothing), Base.Threads.SpinLock(0)), 0), Some(true))), Task (done) @0x0000000081755560)"
      ]
     },
     "execution_count": 27,
     "metadata": {},
     "output_type": "execute_result"
    }
   ],
   "source": [
    "#| code-fold: false\n",
    "draw(graph)"
   ]
  },
  {
   "cell_type": "code",
   "execution_count": 6,
   "id": "b3ad9cb5",
   "metadata": {},
   "outputs": [
    {
     "data": {
      "text/plain": [
       "Query object for nodes of type B\n"
      ]
     },
     "execution_count": 28,
     "metadata": {},
     "output_type": "execute_result"
    }
   ],
   "source": [
    "#| code-fold: false\n",
    "Q1 = Query(B)"
   ]
  },
  {
   "cell_type": "code",
   "execution_count": 7,
   "id": "50f24de6",
   "metadata": {},
   "outputs": [
    {
     "data": {
      "text/plain": [
       "13-element Vector{B}:\n",
       " B(8)\n",
       " B(3)\n",
       " B(7)\n",
       " B(12)\n",
       " B(5)\n",
       " B(9)\n",
       " B(10)\n",
       " B(13)\n",
       " B(1)\n",
       " B(6)\n",
       " B(2)\n",
       " B(4)\n",
       " B(11)"
      ]
     },
     "execution_count": 29,
     "metadata": {},
     "output_type": "execute_result"
    }
   ],
   "source": [
    "#| code-fold: false\n",
    "A1 = apply(graph, Q1)"
   ]
  },
  {
   "cell_type": "code",
   "execution_count": 8,
   "id": "541f6c3c",
   "metadata": {},
   "outputs": [
    {
     "data": {
      "text/plain": [
       "Q2_fun (generic function with 1 method)"
      ]
     },
     "execution_count": 30,
     "metadata": {},
     "output_type": "execute_result"
    }
   ],
   "source": [
    "function Q2_fun(n)\n",
    "    check, steps = hasAncestor(n, x -> data(x) isa C)\n",
    "    !check\n",
    "end"
   ]
  },
  {
   "cell_type": "code",
   "execution_count": 9,
   "id": "edbc2d6b",
   "metadata": {},
   "outputs": [
    {
     "data": {
      "text/plain": [
       "1-element Vector{B}:\n",
       " B(13)"
      ]
     },
     "execution_count": 31,
     "metadata": {},
     "output_type": "execute_result"
    }
   ],
   "source": [
    "Q2 = Query(B, Q2_fun)\n",
    "A2 = apply(graph, Q2)"
   ]
  },
  {
   "cell_type": "code",
   "execution_count": 10,
   "id": "7fa8ac59",
   "metadata": {},
   "outputs": [
    {
     "data": {
      "text/plain": [
       "Q3_fun (generic function with 1 method)"
      ]
     },
     "execution_count": 32,
     "metadata": {},
     "output_type": "execute_result"
    }
   ],
   "source": [
    "function branch_motif(p)\n",
    "    data(p) isa A && \n",
    "    hasDescendent(p, x -> data(x) isa C && data(x).val < 0.0) &&\n",
    "    hasAncestor(p, x -> data(x) isa C && data(x).val > 0.0)[1]\n",
    "end\n",
    "\n",
    "function Q3_fun(n, nsteps)\n",
    "    # Condition 1\n",
    "    check, steps = hasAncestor(n, branch_motif)\n",
    "    !check && return false\n",
    "    # Condition 2\n",
    "    p = parent(n, steps)\n",
    "    check, steps = hasAncestor(p, isRoot)\n",
    "    steps != nsteps && return false\n",
    "    return true\n",
    "end"
   ]
  },
  {
   "cell_type": "code",
   "execution_count": 11,
   "id": "025a7822",
   "metadata": {},
   "outputs": [
    {
     "data": {
      "text/plain": [
       "3-element Vector{B}:\n",
       " B(3)\n",
       " B(1)\n",
       " B(2)"
      ]
     },
     "execution_count": 33,
     "metadata": {},
     "output_type": "execute_result"
    }
   ],
   "source": [
    "Q3 = Query(B, n -> Q3_fun(n, 2))\n",
    "A3 = apply(graph, Q3)"
   ]
  },
  {
   "cell_type": "code",
   "execution_count": 12,
   "id": "8b3837fd",
   "metadata": {},
   "outputs": [
    {
     "data": {
      "text/plain": [
       "Q4_fun (generic function with 1 method)"
      ]
     },
     "execution_count": 34,
     "metadata": {},
     "output_type": "execute_result"
    }
   ],
   "source": [
    "function Q4_fun(n)\n",
    "    !hasAncestor(n, x -> !isRoot(x) && length(children(x)) > 1)[1]\n",
    "end"
   ]
  },
  {
   "cell_type": "code",
   "execution_count": 13,
   "id": "b559d097",
   "metadata": {},
   "outputs": [
    {
     "data": {
      "text/plain": [
       "1-element Vector{B}:\n",
       " B(4)"
      ]
     },
     "execution_count": 35,
     "metadata": {},
     "output_type": "execute_result"
    }
   ],
   "source": [
    "Q4 = Query(B, Q4_fun)\n",
    "A4 = apply(graph, Q4)"
   ]
  },
  {
   "cell_type": "code",
   "execution_count": 14,
   "id": "9b500a2b",
   "metadata": {},
   "outputs": [
    {
     "data": {
      "text/plain": [
       "1-element Vector{B}:\n",
       " B(3)"
      ]
     },
     "execution_count": 36,
     "metadata": {},
     "output_type": "execute_result"
    }
   ],
   "source": [
    "function Q5_fun(n)\n",
    "    check, steps = hasAncestor(n, isRoot)\n",
    "    steps == 4\n",
    "end\n",
    "\n",
    "Q5 = Query(B, Q5_fun)\n",
    "A5 = apply(graph, Q5)"
   ]
  },
  {
   "cell_type": "code",
   "execution_count": 15,
   "id": "992bfa1e",
   "metadata": {},
   "outputs": [
    {
     "data": {
      "text/plain": [
       "1-element Vector{B}:\n",
       " B(7)"
      ]
     },
     "execution_count": 37,
     "metadata": {},
     "output_type": "execute_result"
    }
   ],
   "source": [
    "function Q6_fun(n, nA)\n",
    "    check = Q3_fun(n, nA)\n",
    "    !check && return false\n",
    "    p2 = parent(n,2)\n",
    "    data(p2) isa A\n",
    "end\n",
    "\n",
    "Q6 = Query(B, n -> Q6_fun(n, 3))\n",
    "A6 = apply(graph, Q6)"
   ]
  },
  {
   "cell_type": "code",
   "execution_count": 16,
   "id": "cd476380",
   "metadata": {},
   "outputs": [
    {
     "data": {
      "text/plain": [
       "2-element Vector{B}:\n",
       " B(13)\n",
       " B(11)"
      ]
     },
     "execution_count": 38,
     "metadata": {},
     "output_type": "execute_result"
    }
   ],
   "source": [
    "Q7 = Query(B, n -> Q6_fun(n, 4) || Q2_fun(n))\n",
    "A7 = apply(graph, Q7)"
   ]
  },
  {
   "cell_type": "code",
   "execution_count": 17,
   "id": "c7085cff",
   "metadata": {},
   "outputs": [
    {
     "data": {
      "text/plain": [
       "3-element Vector{B}:\n",
       " B(5)\n",
       " B(9)\n",
       " B(1)"
      ]
     },
     "execution_count": 39,
     "metadata": {},
     "output_type": "execute_result"
    }
   ],
   "source": [
    "function Q8_fun(n)\n",
    "    p1 = parent(n)\n",
    "    p2 = parent(n, 2)\n",
    "    p3 = parent(n, 3)\n",
    "    data(p1) isa A && data(p2) isa C && data(p2).val > 0.0 && data(p3) isa A\n",
    "end\n",
    "\n",
    "Q8 = Query(B, Q8_fun)\n",
    "A8 = apply(graph, Q8)"
   ]
  },
  {
   "cell_type": "code",
   "execution_count": 18,
   "id": "e6c6c89c",
   "metadata": {},
   "outputs": [
    {
     "data": {
      "text/plain": [
       "3-element Vector{B}:\n",
       " B(10)\n",
       " B(6)\n",
       " B(2)"
      ]
     },
     "execution_count": 40,
     "metadata": {},
     "output_type": "execute_result"
    }
   ],
   "source": [
    "function Q9_fun(n)\n",
    "    p1 = parent(n)\n",
    "    p2 = parent(n, 2)\n",
    "    p3 = parent(n, 3)\n",
    "    p4 = parent(n, 4)\n",
    "    data(p1) isa A && data(p2) isa C && data(p2).val < 0.0 && \n",
    "       data(p3) isa A && data(p4) isa C\n",
    "end\n",
    "\n",
    "Q9 = Query(B, Q9_fun)\n",
    "A9 = apply(graph, Q9)"
   ]
  },
  {
   "cell_type": "code",
   "execution_count": 19,
   "id": "8dc5749a",
   "metadata": {},
   "outputs": [
    {
     "data": {
      "text/plain": [
       "3-element Vector{B}:\n",
       " B(8)\n",
       " B(7)\n",
       " B(6)"
      ]
     },
     "execution_count": 41,
     "metadata": {},
     "output_type": "execute_result"
    }
   ],
   "source": [
    "function Q10_fun(n)\n",
    "    Q6_fun(n, 3) && return true # Check node 7\n",
    "    Q9_fun(n) && hasAncestor(n, isRoot)[2] == 6 && return true # Check node 6\n",
    "    hasAncestor(n, isRoot)[2] == 5 && data(parent(n, 3)) isa C && return true # Check node 8 (and not 4!)\n",
    "end\n",
    "\n",
    "Q10 = Query(B, Q10_fun)\n",
    "A10 = apply(graph, Q10)"
   ]
  },
  {
   "cell_type": "code",
   "execution_count": 20,
   "id": "015a0587",
   "metadata": {},
   "outputs": [
    {
     "data": {
      "text/plain": [
       "4-element Vector{B}:\n",
       " B(3)\n",
       " B(7)\n",
       " B(12)\n",
       " B(11)"
      ]
     },
     "execution_count": 42,
     "metadata": {},
     "output_type": "execute_result"
    }
   ],
   "source": [
    "function Q11_fun(n)\n",
    "    Q5_fun(n) && return true # 3\n",
    "    Q6_fun(n, 3) && return true # 7\n",
    "    Q6_fun(n, 4) && return true # 11\n",
    "    hasAncestor(n, isRoot)[2] == 5 && data(parent(n, 2)) isa C && \n",
    "        data(parent(n, 4)) isa A && return true # 12\n",
    "end\n",
    "\n",
    "Q11 = Query(B, Q11_fun)\n",
    "A11 = apply(graph, Q11)"
   ]
  },
  {
   "cell_type": "code",
   "execution_count": 21,
   "id": "5b6cc1e0",
   "metadata": {},
   "outputs": [
    {
     "data": {
      "text/plain": [
       "2-element Vector{B}:\n",
       " B(7)\n",
       " B(12)"
      ]
     },
     "execution_count": 43,
     "metadata": {},
     "output_type": "execute_result"
    }
   ],
   "source": [
    "function Q12_fun(n)\n",
    "    Q6_fun(n, 3) && return true # 7\n",
    "    hasAncestor(n, isRoot)[2] == 5 && data(parent(n, 2)) isa C && \n",
    "        data(parent(n, 4)) isa A && return true # 12\n",
    "end\n",
    "\n",
    "Q12 = Query(B, Q12_fun)\n",
    "A12 = apply(graph, Q12)"
   ]
  }
 ],
 "metadata": {
  "kernelspec": {
   "display_name": "Julia 1.7.2",
   "language": "julia",
   "name": "julia-1.7"
  }
 },
 "nbformat": 4,
 "nbformat_minor": 5
}