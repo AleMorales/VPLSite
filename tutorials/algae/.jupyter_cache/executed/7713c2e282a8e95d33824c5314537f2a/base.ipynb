{
 "cells": [
  {
   "cell_type": "code",
   "execution_count": 1,
   "id": "e35cff92",
   "metadata": {},
   "outputs": [],
   "source": [
    "import IJulia\n",
    "\n",
    "# The julia kernel has built in support for Revise.jl, so this is the \n",
    "# recommended approach for long-running sessions:\n",
    "# https://github.com/JuliaLang/IJulia.jl/blob/9b10fa9b879574bbf720f5285029e07758e50a5e/src/kernel.jl#L46-L51\n",
    "\n",
    "# Users should enable revise within .julia/config/startup_ijulia.jl:\n",
    "# https://timholy.github.io/Revise.jl/stable/config/#Using-Revise-automatically-within-Jupyter/IJulia-1\n",
    "\n",
    "# clear console history\n",
    "IJulia.clear_history()\n",
    "\n",
    "# Intialize Plots w/ default fig width/height\n",
    "try\n",
    "  fig_width = 7\n",
    "  fig_height = 5\n",
    "  fig_format = :retina\n",
    "  fig_dpi = 96\n",
    "  # no retina format type, use svg for high quality type/marks\n",
    "  if fig_format == :retina\n",
    "    fig_format = :svg\n",
    "  # IJulia doesn't support PDF output so use png (if the DPI \n",
    "  # remains the default of 300 then set to 96)\n",
    "  elseif fig_format == :pdf\n",
    "    fig_format = :png\n",
    "    fig_dpi = 96\n",
    "  end\n",
    "  # convert inches to pixels\n",
    "  fig_width = fig_width * fig_dpi\n",
    "  fig_height = fig_height * fig_dpi\n",
    "  using Plots\n",
    "  gr(size=(fig_width, fig_height), fmt = fig_format, dpi = fig_dpi)\n",
    "catch e\n",
    "  # @warn \"Plots init\" exception=(e, catch_backtrace())\n",
    "end\n",
    "\n",
    "# don't return kernel dependencies (b/c Revise should take care of dependencies)\n",
    "nothing\n"
   ]
  },
  {
   "cell_type": "code",
   "execution_count": 2,
   "id": "7e830414",
   "metadata": {},
   "outputs": [],
   "source": [
    "using VPL "
   ]
  },
  {
   "cell_type": "code",
   "execution_count": 3,
   "id": "ffc48cf2",
   "metadata": {},
   "outputs": [],
   "source": [
    "struct A <: Node end\n",
    "struct B <: Node end"
   ]
  },
  {
   "cell_type": "code",
   "execution_count": 4,
   "id": "76455ea7",
   "metadata": {},
   "outputs": [
    {
     "data": {
      "text/plain": [
       "A()"
      ]
     },
     "execution_count": 16,
     "metadata": {},
     "output_type": "execute_result"
    }
   ],
   "source": [
    "axiom = A()"
   ]
  },
  {
   "cell_type": "code",
   "execution_count": 5,
   "id": "b078bbeb",
   "metadata": {},
   "outputs": [
    {
     "data": {
      "text/plain": [
       "Rule replacing nodes of type B without context capturing.\n"
      ]
     },
     "execution_count": 17,
     "metadata": {},
     "output_type": "execute_result"
    }
   ],
   "source": [
    "rule1 = Rule(A, rhs = x -> A() + B())\n",
    "rule2 = Rule(B, rhs = x -> A())"
   ]
  },
  {
   "cell_type": "code",
   "execution_count": 6,
   "id": "403b41fb",
   "metadata": {},
   "outputs": [
    {
     "data": {
      "text/plain": [
       "rule_1 (generic function with 1 method)"
      ]
     },
     "execution_count": 18,
     "metadata": {},
     "output_type": "execute_result"
    }
   ],
   "source": [
    "function rule_1(x)\n",
    "    A() + B()\n",
    "end"
   ]
  },
  {
   "cell_type": "code",
   "execution_count": 7,
   "id": "3414dd7a",
   "metadata": {},
   "outputs": [
    {
     "data": {
      "text/plain": [
       "Dynamic graph with 1 nodes of types A and 2 rewriting rules.\n"
      ]
     },
     "execution_count": 19,
     "metadata": {},
     "output_type": "execute_result"
    }
   ],
   "source": [
    "algae = Graph(axiom, rules = (rule1, rule2))"
   ]
  },
  {
   "cell_type": "code",
   "execution_count": 8,
   "id": "ee8f17a9",
   "metadata": {},
   "outputs": [],
   "source": [
    "draw(algae);"
   ]
  },
  {
   "cell_type": "code",
   "execution_count": 9,
   "id": "1bbcdecf",
   "metadata": {},
   "outputs": [],
   "source": [
    "rewrite!(algae)"
   ]
  },
  {
   "cell_type": "code",
   "execution_count": 10,
   "id": "b85c2c74",
   "metadata": {},
   "outputs": [],
   "source": [
    "draw(algae);"
   ]
  },
  {
   "cell_type": "code",
   "execution_count": 11,
   "id": "2a34a0c8",
   "metadata": {},
   "outputs": [],
   "source": [
    "for i in 1:4\n",
    "    rewrite!(algae)\n",
    "end\n",
    "draw(algae);"
   ]
  }
 ],
 "metadata": {
  "kernelspec": {
   "display_name": "Julia 1.7.2",
   "language": "julia",
   "name": "julia-1.7"
  }
 },
 "nbformat": 4,
 "nbformat_minor": 5
}