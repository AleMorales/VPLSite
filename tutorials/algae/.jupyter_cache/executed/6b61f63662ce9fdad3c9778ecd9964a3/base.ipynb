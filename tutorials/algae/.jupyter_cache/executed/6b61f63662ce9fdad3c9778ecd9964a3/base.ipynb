{
 "cells": [
  {
   "cell_type": "code",
   "execution_count": 1,
   "id": "f98f029a",
   "metadata": {},
   "outputs": [],
   "source": [
    "import IJulia\n",
    "\n",
    "# The julia kernel has built in support for Revise.jl, so this is the \n",
    "# recommended approach for long-running sessions:\n",
    "# https://github.com/JuliaLang/IJulia.jl/blob/9b10fa9b879574bbf720f5285029e07758e50a5e/src/kernel.jl#L46-L51\n",
    "\n",
    "# Users should enable revise within .julia/config/startup_ijulia.jl:\n",
    "# https://timholy.github.io/Revise.jl/stable/config/#Using-Revise-automatically-within-Jupyter/IJulia-1\n",
    "\n",
    "# clear console history\n",
    "IJulia.clear_history()\n",
    "\n",
    "# Intialize Plots w/ default fig width/height\n",
    "try\n",
    "  fig_width = 7\n",
    "  fig_height = 5\n",
    "  fig_format = :retina\n",
    "  fig_dpi = 96\n",
    "  # no retina format type, use svg for high quality type/marks\n",
    "  if fig_format == :retina\n",
    "    fig_format = :svg\n",
    "  # IJulia doesn't support PDF output so use png (if the DPI \n",
    "  # remains the default of 300 then set to 96)\n",
    "  elseif fig_format == :pdf\n",
    "    fig_format = :png\n",
    "    fig_dpi = 96\n",
    "  end\n",
    "  # convert inches to pixels\n",
    "  fig_width = fig_width * fig_dpi\n",
    "  fig_height = fig_height * fig_dpi\n",
    "  using Plots\n",
    "  gr(size=(fig_width, fig_height), fmt = fig_format, dpi = fig_dpi)\n",
    "catch e\n",
    "  # @warn \"Plots init\" exception=(e, catch_backtrace())\n",
    "end\n",
    "\n",
    "# don't return kernel dependencies (b/c Revise should take care of dependencies)\n",
    "nothing\n"
   ]
  },
  {
   "cell_type": "code",
   "execution_count": 2,
   "id": "0db74819",
   "metadata": {},
   "outputs": [
    {
     "data": {
      "application/vnd.webio.node+json": {
       "children": [],
       "instanceArgs": {
        "namespace": "html",
        "tag": "div"
       },
       "nodeType": "DOM",
       "props": {},
       "type": "node"
      },
      "text/html": [
       "<div style=\"padding: 1em; background-color: #f8d6da; border: 1px solid #f5c6cb; font-weight: bold;\">\n",
       "<p>The WebIO Jupyter extension was not detected. See the\n",
       "<a href=\"https://juliagizmos.github.io/WebIO.jl/latest/providers/ijulia/\" target=\"_blank\">\n",
       "    WebIO Jupyter integration documentation\n",
       "</a>\n",
       "for more information.\n",
       "</div>\n"
      ],
      "text/plain": [
       "WebIO._IJuliaInit()"
      ]
     },
     "metadata": {},
     "output_type": "display_data"
    }
   ],
   "source": [
    "using VPL "
   ]
  },
  {
   "cell_type": "code",
   "execution_count": 3,
   "id": "6fe2608d",
   "metadata": {},
   "outputs": [],
   "source": [
    "module algae\n",
    "    import VPL: Node\n",
    "    struct A <: Node end\n",
    "    struct B <: Node end\n",
    "end\n",
    "import .algae"
   ]
  },
  {
   "cell_type": "code",
   "execution_count": 4,
   "id": "0d2c1239",
   "metadata": {},
   "outputs": [
    {
     "data": {
      "text/plain": [
       "Main.algae.A()"
      ]
     },
     "execution_count": 4,
     "metadata": {},
     "output_type": "execute_result"
    }
   ],
   "source": [
    "axiom = algae.A()"
   ]
  },
  {
   "cell_type": "code",
   "execution_count": 5,
   "id": "cd08fc4c",
   "metadata": {},
   "outputs": [
    {
     "data": {
      "text/plain": [
       "Rule replacing nodes of type Main.algae.B without context capturing.\n"
      ]
     },
     "execution_count": 5,
     "metadata": {},
     "output_type": "execute_result"
    }
   ],
   "source": [
    "rule1 = Rule(algae.A, rhs = x -> algae.A() + algae.B())\n",
    "rule2 = Rule(algae.B, rhs = x -> algae.A())"
   ]
  },
  {
   "cell_type": "code",
   "execution_count": 6,
   "id": "8c277c47",
   "metadata": {},
   "outputs": [
    {
     "data": {
      "text/plain": [
       "rule_1 (generic function with 1 method)"
      ]
     },
     "execution_count": 6,
     "metadata": {},
     "output_type": "execute_result"
    }
   ],
   "source": [
    "function rule_1(x)\n",
    "    algae.A() + algae.B()\n",
    "end"
   ]
  },
  {
   "cell_type": "code",
   "execution_count": 7,
   "id": "8f8b1e05",
   "metadata": {},
   "outputs": [
    {
     "data": {
      "text/plain": [
       "Dynamic graph with 1 nodes of types Main.algae.A and 2 rewriting rules.\n"
      ]
     },
     "execution_count": 7,
     "metadata": {},
     "output_type": "execute_result"
    }
   ],
   "source": [
    "organism = Graph(axiom, rules = (rule1, rule2))"
   ]
  },
  {
   "cell_type": "code",
   "execution_count": 8,
   "id": "30b542c9",
   "metadata": {},
   "outputs": [],
   "source": [
    "draw(organism);"
   ]
  },
  {
   "cell_type": "code",
   "execution_count": 9,
   "id": "c525f7a2",
   "metadata": {},
   "outputs": [],
   "source": [
    "rewrite!(organism)"
   ]
  },
  {
   "cell_type": "code",
   "execution_count": 10,
   "id": "f73f5940",
   "metadata": {},
   "outputs": [],
   "source": [
    "draw(organism);"
   ]
  },
  {
   "cell_type": "code",
   "execution_count": 11,
   "id": "225fa91b",
   "metadata": {},
   "outputs": [],
   "source": [
    "for i in 1:4\n",
    "    rewrite!(organism)\n",
    "end\n",
    "draw(organism);"
   ]
  }
 ],
 "metadata": {
  "kernelspec": {
   "display_name": "Julia 1.7.2",
   "language": "julia",
   "name": "julia-1.7"
  },
  "language_info": {
   "file_extension": ".jl",
   "mimetype": "application/julia",
   "name": "julia",
   "version": "1.7.2"
  }
 },
 "nbformat": 4,
 "nbformat_minor": 5
}