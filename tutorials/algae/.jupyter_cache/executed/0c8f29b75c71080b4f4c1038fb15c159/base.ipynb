{
 "cells": [
  {
   "cell_type": "code",
   "execution_count": 1,
   "id": "999286ec",
   "metadata": {},
   "outputs": [],
   "source": [
    "import IJulia\n",
    "\n",
    "# The julia kernel has built in support for Revise.jl, so this is the \n",
    "# recommended approach for long-running sessions:\n",
    "# https://github.com/JuliaLang/IJulia.jl/blob/9b10fa9b879574bbf720f5285029e07758e50a5e/src/kernel.jl#L46-L51\n",
    "\n",
    "# Users should enable revise within .julia/config/startup_ijulia.jl:\n",
    "# https://timholy.github.io/Revise.jl/stable/config/#Using-Revise-automatically-within-Jupyter/IJulia-1\n",
    "\n",
    "# clear console history\n",
    "IJulia.clear_history()\n",
    "\n",
    "# Intialize Plots w/ default fig width/height\n",
    "try\n",
    "  fig_width = 7\n",
    "  fig_height = 5\n",
    "  fig_format = :retina\n",
    "  fig_dpi = 96\n",
    "  # no retina format type, use svg for high quality type/marks\n",
    "  if fig_format == :retina\n",
    "    fig_format = :svg\n",
    "  # IJulia doesn't support PDF output so use png (if the DPI \n",
    "  # remains the default of 300 then set to 96)\n",
    "  elseif fig_format == :pdf\n",
    "    fig_format = :png\n",
    "    fig_dpi = 96\n",
    "  end\n",
    "  # convert inches to pixels\n",
    "  fig_width = fig_width * fig_dpi\n",
    "  fig_height = fig_height * fig_dpi\n",
    "  using Plots\n",
    "  gr(size=(fig_width, fig_height), fmt = fig_format, dpi = fig_dpi)\n",
    "catch e\n",
    "  # @warn \"Plots init\" exception=(e, catch_backtrace())\n",
    "end\n",
    "\n",
    "# don't return kernel dependencies (b/c Revise should take care of dependencies)\n",
    "nothing\n"
   ]
  },
  {
   "cell_type": "code",
   "execution_count": 2,
   "id": "7c0d401f",
   "metadata": {},
   "outputs": [
    {
     "data": {
      "text/html": [
       "<div data-jscall-id=\"2\"><script data-jscall-id=\"3\" type=\"text/javascript\">\n",
       "    function register_resize_handler(remote_origin) {\n",
       "        function resize_callback(event) {\n",
       "            if (event.origin !== remote_origin) {\n",
       "                return;\n",
       "            }\n",
       "            const uuid = event.data[0];\n",
       "            const width = event.data[1];\n",
       "            const height = event.data[2];\n",
       "            const iframe = document.getElementById('b5795dbf-a378-4531-9776-617f80f34f7b');\n",
       "            if (iframe) {\n",
       "                iframe.style.width = width + \"px\";\n",
       "                iframe.style.height = height + \"px\";\n",
       "            }\n",
       "        }\n",
       "        if (window.addEventListener) {\n",
       "            window.addEventListener(\"message\", resize_callback, false);\n",
       "        } else if (window.attachEvent) {\n",
       "            window.attachEvent(\"onmessage\", resize_callback);\n",
       "        }\n",
       "    }\n",
       "    register_resize_handler('http://127.0.0.1:9284')\n",
       "\n",
       "</script><iframe scrolling=\"no\" id=\"b5795dbf-a378-4531-9776-617f80f34f7b\" data-jscall-id=\"1\" src=\"http://127.0.0.1:9284/b5795dbf-a378-4531-9776-617f80f34f7b\" style=\"position: relative; display: block; width: 100%; height: 100%; padding: 0; overflow: hidden; border: none\"></iframe></div>\n"
      ]
     },
     "execution_count": 2,
     "metadata": {},
     "output_type": "execute_result"
    }
   ],
   "source": [
    "import WGLMakie\n",
    "import GraphMakie\n",
    "import Graphs \n",
    "\n",
    "g = Graphs.wheel_graph(10)\n",
    "f, ax, p = GraphMakie.graphplot(g)\n",
    "GraphMakie.hidedecorations!(ax); GraphMakie.hidespines!(ax)\n",
    "ax.aspect = GraphMakie.DataAspect()\n",
    "f"
   ]
  },
  {
   "cell_type": "code",
   "execution_count": 3,
   "id": "08ed1897",
   "metadata": {},
   "outputs": [
    {
     "data": {
      "application/vnd.webio.node+json": {
       "children": [],
       "instanceArgs": {
        "namespace": "html",
        "tag": "div"
       },
       "nodeType": "DOM",
       "props": {},
       "type": "node"
      },
      "text/html": [
       "<div style=\"padding: 1em; background-color: #f8d6da; border: 1px solid #f5c6cb; font-weight: bold;\">\n",
       "<p>The WebIO Jupyter extension was not detected. See the\n",
       "<a href=\"https://juliagizmos.github.io/WebIO.jl/latest/providers/ijulia/\" target=\"_blank\">\n",
       "    WebIO Jupyter integration documentation\n",
       "</a>\n",
       "for more information.\n",
       "</div>\n"
      ],
      "text/plain": [
       "WebIO._IJuliaInit()"
      ]
     },
     "metadata": {},
     "output_type": "display_data"
    }
   ],
   "source": [
    "using VPL "
   ]
  },
  {
   "cell_type": "code",
   "execution_count": 4,
   "id": "a0304ba3",
   "metadata": {},
   "outputs": [],
   "source": [
    "module algae\n",
    "    import VPL: Node\n",
    "    struct A <: Node end\n",
    "    struct B <: Node end\n",
    "end\n",
    "import .algae"
   ]
  },
  {
   "cell_type": "code",
   "execution_count": 5,
   "id": "3c576b54",
   "metadata": {},
   "outputs": [
    {
     "data": {
      "text/plain": [
       "Main.algae.A()"
      ]
     },
     "execution_count": 5,
     "metadata": {},
     "output_type": "execute_result"
    }
   ],
   "source": [
    "axiom = algae.A()"
   ]
  },
  {
   "cell_type": "code",
   "execution_count": 6,
   "id": "26da6ba1",
   "metadata": {},
   "outputs": [
    {
     "data": {
      "text/plain": [
       "Rule replacing nodes of type Main.algae.B without context capturing.\n"
      ]
     },
     "execution_count": 6,
     "metadata": {},
     "output_type": "execute_result"
    }
   ],
   "source": [
    "rule1 = Rule(algae.A, rhs = x -> algae.A() + algae.B())\n",
    "rule2 = Rule(algae.B, rhs = x -> algae.A())"
   ]
  },
  {
   "cell_type": "code",
   "execution_count": 7,
   "id": "8eb27ae8",
   "metadata": {},
   "outputs": [
    {
     "data": {
      "text/plain": [
       "rule_1 (generic function with 1 method)"
      ]
     },
     "execution_count": 7,
     "metadata": {},
     "output_type": "execute_result"
    }
   ],
   "source": [
    "function rule_1(x)\n",
    "    algae.A() + algae.B()\n",
    "end"
   ]
  },
  {
   "cell_type": "code",
   "execution_count": 8,
   "id": "eaa3c9df",
   "metadata": {},
   "outputs": [
    {
     "data": {
      "text/plain": [
       "Dynamic graph with 1 nodes of types Main.algae.A and 2 rewriting rules.\n"
      ]
     },
     "execution_count": 8,
     "metadata": {},
     "output_type": "execute_result"
    }
   ],
   "source": [
    "organism = Graph(axiom, rules = (rule1, rule2))"
   ]
  },
  {
   "cell_type": "code",
   "execution_count": 9,
   "id": "e71d20de",
   "metadata": {},
   "outputs": [],
   "source": [
    "draw(organism);"
   ]
  },
  {
   "cell_type": "code",
   "execution_count": 10,
   "id": "9942e48d",
   "metadata": {},
   "outputs": [],
   "source": [
    "rewrite!(organism)"
   ]
  },
  {
   "cell_type": "code",
   "execution_count": 11,
   "id": "217a62f8",
   "metadata": {},
   "outputs": [],
   "source": [
    "draw(organism);"
   ]
  },
  {
   "cell_type": "code",
   "execution_count": 12,
   "id": "804d7801",
   "metadata": {},
   "outputs": [],
   "source": [
    "for i in 1:4\n",
    "    rewrite!(organism)\n",
    "end\n",
    "draw(organism);"
   ]
  }
 ],
 "metadata": {
  "kernelspec": {
   "display_name": "Julia 1.7.2",
   "language": "julia",
   "name": "julia-1.7"
  },
  "language_info": {
   "file_extension": ".jl",
   "mimetype": "application/julia",
   "name": "julia",
   "version": "1.7.2"
  }
 },
 "nbformat": 4,
 "nbformat_minor": 5
}