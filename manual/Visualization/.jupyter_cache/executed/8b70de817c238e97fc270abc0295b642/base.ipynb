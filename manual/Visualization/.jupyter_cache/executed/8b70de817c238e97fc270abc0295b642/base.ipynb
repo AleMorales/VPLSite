{
 "cells": [
  {
   "cell_type": "code",
   "execution_count": 1,
   "id": "09ef391f",
   "metadata": {},
   "outputs": [],
   "source": [
    "import IJulia\n",
    "\n",
    "# The julia kernel has built in support for Revise.jl, so this is the \n",
    "# recommended approach for long-running sessions:\n",
    "# https://github.com/JuliaLang/IJulia.jl/blob/9b10fa9b879574bbf720f5285029e07758e50a5e/src/kernel.jl#L46-L51\n",
    "\n",
    "# Users should enable revise within .julia/config/startup_ijulia.jl:\n",
    "# https://timholy.github.io/Revise.jl/stable/config/#Using-Revise-automatically-within-Jupyter/IJulia-1\n",
    "\n",
    "# clear console history\n",
    "IJulia.clear_history()\n",
    "\n",
    "# Intialize Plots w/ default fig width/height\n",
    "try\n",
    "  fig_width = 7\n",
    "  fig_height = 5\n",
    "  fig_format = :retina\n",
    "  fig_dpi = 96\n",
    "  # no retina format type, use svg for high quality type/marks\n",
    "  if fig_format == :retina\n",
    "    fig_format = :svg\n",
    "  # IJulia doesn't support PDF output so use png (if the DPI \n",
    "  # remains the default of 300 then set to 96)\n",
    "  elseif fig_format == :pdf\n",
    "    fig_format = :png\n",
    "    fig_dpi = 96\n",
    "  end\n",
    "  # convert inches to pixels\n",
    "  fig_width = fig_width * fig_dpi\n",
    "  fig_height = fig_height * fig_dpi\n",
    "  using Plots\n",
    "  gr(size=(fig_width, fig_height), fmt = fig_format, dpi = fig_dpi)\n",
    "catch e\n",
    "  # @warn \"Plots init\" exception=(e, catch_backtrace())\n",
    "end\n",
    "\n",
    "# don't return kernel dependencies (b/c Revise should take care of dependencies)\n",
    "nothing\n"
   ]
  },
  {
   "cell_type": "code",
   "execution_count": 2,
   "id": "4f9be989",
   "metadata": {},
   "outputs": [],
   "source": [
    "#| eval: false\n",
    "draw(graph)"
   ]
  },
  {
   "cell_type": "code",
   "execution_count": 3,
   "id": "01958807",
   "metadata": {},
   "outputs": [],
   "source": [
    "#| eval: false\n",
    "f = draw(graph);\n",
    "f"
   ]
  },
  {
   "cell_type": "code",
   "execution_count": 4,
   "id": "26df3a3e",
   "metadata": {},
   "outputs": [],
   "source": [
    "#| eval: false\n",
    "f = draw(graph);\n",
    "export_graph(f, \"<filename>.<ext>\")"
   ]
  },
  {
   "cell_type": "code",
   "execution_count": 5,
   "id": "39056bae",
   "metadata": {},
   "outputs": [],
   "source": [
    "#| eval: false\n",
    "# Compute pixel resolution to ensure a width of 6 cm, height of 16 cm and a dpi of 300\n",
    "res = calculate_resolution(6, 16, dpi = 300)\n",
    "f = draw(graph, resolution = res);\n",
    "export_graph(f, \"<filename>.png\")"
   ]
  },
  {
   "cell_type": "code",
   "execution_count": 6,
   "id": "0918e950",
   "metadata": {},
   "outputs": [],
   "source": [
    "#| eval: false\n",
    "# Compute pixel resolution to ensure a width of 6 cm, height of 16 cm and a dpi of 300\n",
    "res = calculate_resolution(6, 16, format = \"svg\")\n",
    "f = draw(graph, resolution = res);\n",
    "export_graph(f, \"<filename>.svg\")"
   ]
  }
 ],
 "metadata": {
  "kernelspec": {
   "display_name": "Julia 1.7.2",
   "language": "julia",
   "name": "julia-1.7"
  },
  "language_info": {
   "file_extension": ".jl",
   "mimetype": "application/julia",
   "name": "julia",
   "version": "1.7.2"
  }
 },
 "nbformat": 4,
 "nbformat_minor": 5
}