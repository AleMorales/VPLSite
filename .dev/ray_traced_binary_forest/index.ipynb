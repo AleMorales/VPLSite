{
  "cells": [
    {
      "cell_type": "raw",
      "metadata": {},
      "source": [
        "---\n",
        "title: \"Ray-traced forest of binary trees\"\n",
        "author: \"Alejandro Morales Sierra\"\n",
        "date: last-modified\n",
        "execute: \n",
        "  cache: true\n",
        "---"
      ],
      "id": "2ca91290"
    },
    {
      "cell_type": "markdown",
      "metadata": {},
      "source": [
        "In this example we extend the example on the forest of binary forests by adding leaves\n",
        "to the trees and computing the irradiance intercepted by these leaves for each tree, \n",
        "assuming a single directional light source. Hence, this tutorial introduces the ray\n",
        "tracer provided by VPL. As usual, we load the VPL package at the start of the script:"
      ],
      "id": "80d921f9"
    },
    {
      "cell_type": "code",
      "metadata": {},
      "source": [
        "using VPL"
      ],
      "id": "a72b009b",
      "execution_count": null,
      "outputs": []
    },
    {
      "cell_type": "markdown",
      "metadata": {},
      "source": [
        "The data types are similar as in the binary tree example but we need to add an additional \n",
        "type of organ (`Leaf`) and both `Internode` and `Leaf` include information describing \n",
        "their optical properties (i.e., objects that inherit from `Material`). For both types of\n",
        "organs we assume Lambertian optical properties defined for a single wavelength (denoted by\n",
        "the type parameter `{1}`):"
      ],
      "id": "334e1ee0"
    },
    {
      "cell_type": "code",
      "metadata": {},
      "source": [
        "# Module defining the types\n",
        "module rtforest\n",
        "    import VPL\n",
        "    # Meristem\n",
        "    struct Meristem <: VPL.Node end\n",
        "    # Node\n",
        "    struct Node <: VPL.Node end\n",
        "    # Internode\n",
        "    mutable struct Internode <: VPL.Node\n",
        "        length::Float64\n",
        "        mat::VPL.Lambertian{1}\n",
        "    end\n",
        "    # Leaf (an ellipse with a certain aspect ratio)\n",
        "    mutable struct Leaf <: VPL.Node\n",
        "        length::Float64\n",
        "        ratio::Float64\n",
        "        angle::Float64\n",
        "        mat::VPL.Lambertian{1}\n",
        "    end\n",
        "    struct treeparams\n",
        "        growth::Float64\n",
        "    end\n",
        "end\n",
        "\n",
        "# Make module available through an alias, but do not import the types themselves\n",
        "import .rtforest as dt"
      ],
      "id": "a231c5cc",
      "execution_count": null,
      "outputs": []
    },
    {
      "cell_type": "markdown",
      "metadata": {},
      "source": [
        "Remember that using a module to store the data types (and not importing their names directly) makes it \n",
        "more convenient to iteratively change your code, as otherwise every time a type definition is changed\n",
        "you would have to restart the Julia process (and pay the compilation time again). Using an alias `dt`\n",
        "saves some typing while still maintaing an unique name for the module (important if you are following\n",
        "these tutorials in sequence).\n",
        "\n",
        "First we define the geometry associated to internodes and leaves by specializing methods for `feedgeom!`.\n",
        "The internodes are still defined by prisms, whereas leaves are defined by ellipses. The dimensions of a\n",
        "leaf are defined by `length` and the `ratio` between width and length of the leaf. Also, leaves are inserted\n",
        "in the internodes at an `angle`."
      ],
      "id": "02375d28"
    },
    {
      "cell_type": "code",
      "metadata": {},
      "source": [
        "function VPL.feedgeom!(turtle::VPL.MTurtle, i::Internode)\n",
        "    HollowCube!(turtle, l = i.length, h = i.length/25, w = i.length/25, move = true)\n",
        "    return nothing\n",
        "end\n",
        "function VPL.feedgeom!(turtle::VPL.MTurtle, l::Leaf)\n",
        "    ra!(turtle, l.angle)\n",
        "    Ellipse!(turtle, l = l.length, w = l.length*l.ratio, move = false)\n",
        "    ra!(turtle, -l.angle)\n",
        "    return nothing\n",
        "end"
      ],
      "id": "22cde3b6",
      "execution_count": null,
      "outputs": []
    },
    {
      "cell_type": "markdown",
      "metadata": {},
      "source": [
        "Note that the rotations necessary to insert the leaves are not stored as \n",
        "nodes in a graph (e.g., using `RA` nodes in the growth rule below) but rather as commands that directly modify\n",
        "the state of the geometry turtle. Both approaches are facilitated by VPL and have the same effect in terms of \n",
        "final geometry. If we want to store the insertion angle inside the `Leaf` object and modify it later on (e.g., to simulate\n",
        "leaf movement), we must implement the rotations inside the `feedgeom!`. This latter approach may also result in\n",
        "faster simulations with lower memory requirements. One caveat is that storing rotations in the graph brings\n",
        "VPL models closer to traditional L-systems and therefore may seem more understandable to users with previous\n",
        "experience in FSPM. In any case, such users are encouraged to rethink the approach, as VPL favours a procedural\n",
        "approach such that graphs are used as little as possible (i.e., for growth rules and relational queries), which may\n",
        "not have been possible in previous FSPM software.\n",
        "\n",
        "To render 3D representations of the binary trees, we need to add `feedcolor!` methods:"
      ],
      "id": "5e0b6a21"
    },
    {
      "cell_type": "code",
      "metadata": {},
      "source": [
        "function VPL.feedcolor!(turtle::VPL.GLTurtle, i::Internode)\n",
        "    feedcolor!(turtle, RGB(0,1,0))\n",
        "    return nothing\n",
        "end\n",
        "function VPL.feedcolor!(turtle::VPL.GLTurtle, l::Leaf)\n",
        "    feedcolor!(turtle, RGB(1,1,0))\n",
        "    return nothing\n",
        "end"
      ],
      "id": "ce45c1d5",
      "execution_count": null,
      "outputs": []
    },
    {
      "cell_type": "markdown",
      "metadata": {},
      "source": [
        "Finally, to compute light distribution within our simulated canopies, we need to assign optical properties to each\n",
        "organ via the `feedmaterial!` method and the use of `Material` objects. The `feedmaterial!` method works similarly\n",
        "to other turtle methods, except that it works with `RTTurtle` objects, that is specialized on collecting optical\n",
        "properties. The `Material` objects not only include the optical properties, but they also stored the absorbed\n",
        "radiant power after running the ray tracer. Therefore, if one wants to retrieve this information (e.g. to compute\n",
        "photosynthesis or energy balance), the `Material` object should be stored inside the organ. This simplifies the\n",
        "`feedmaterial!` method to the following:"
      ],
      "id": "bbd1c2f4"
    },
    {
      "cell_type": "code",
      "metadata": {},
      "source": [
        "function VPL.feedmaterial!(turtle::VPL.RTTurtle, i::Internode)\n",
        "    feedmaterial!(turtle, i.mat)\n",
        "    return nothing\n",
        "end\n",
        "function VPL.feedmaterial!(turtle::VPL.RTTurtle, l::Leaf)\n",
        "    feedmaterial!(turtle, l.mat)\n",
        "    return nothing\n",
        "end"
      ],
      "id": "2d563b7a",
      "execution_count": null,
      "outputs": []
    },
    {
      "cell_type": "markdown",
      "metadata": {},
      "source": [
        "The growth rule is similar the previous forest of binary trees, but two leaves are inserted at each bifurcation, \n",
        "perpendicular to the parent internode. Also, `Lambertian` objects are created to store the optical properties\n",
        "defined by transmittance and reflectance."
      ],
      "id": "26bb9018"
    },
    {
      "cell_type": "code",
      "metadata": {},
      "source": [
        "optical_leaf() = Lambertian(0.1, 0.05)\n",
        "optical_internode() = Lambertian(0.0, 0.25)\n",
        "rule = Rule(Meristem, rhs = mer -> Node() + \n",
        "                   (Leaf(0.05, 0.5, 90.0, optical_leaf()), \n",
        "                    Leaf(0.05, 0.5, -90.0, optical_leaf()),\n",
        "                    RU(-60.0) + Internode(0.1, optical_internode()) + RH(90.0) + Meristem(), \n",
        "                    RU(60.0)  + Internode(0.1, optical_internode()) + RH(90.0) + Meristem()))"
      ],
      "id": "e331af58",
      "execution_count": null,
      "outputs": []
    },
    {
      "cell_type": "markdown",
      "metadata": {},
      "source": [
        "As in the previous forest example, each tree is defined by a simple axiom, the growth rule given above and a\n",
        "growth parameter that is unique to that tree. We can wrap this in a function that also allows different locations\n",
        "for the trees:"
      ],
      "id": "afae2c59"
    },
    {
      "cell_type": "code",
      "metadata": {},
      "source": [
        "function create_tree(origin, growth)\n",
        "    axiom = T(origin) + Internode(0.1, optical_internode()) + Meristem()\n",
        "    tree = Graph(axiom, Tuple(rule), treeparams(growth))\n",
        "    return tree\n",
        "end"
      ],
      "id": "1631d0f7",
      "execution_count": null,
      "outputs": []
    },
    {
      "cell_type": "markdown",
      "metadata": {},
      "source": [
        "Both internodes and leaves are elongated in each time step according to the growth rate associated to each tree:"
      ],
      "id": "154815e3"
    },
    {
      "cell_type": "code",
      "metadata": {},
      "source": [
        "getInternode = Query(rbtree.Internode)\n",
        "getLeaf      = Query(Leaf)\n",
        "function elongate!(tree, query)\n",
        "    for x in apply(tree, query)\n",
        "        x.length = x.length*(1.0 + vars(tree).growth)\n",
        "    end\n",
        "end"
      ],
      "id": "357369b3",
      "execution_count": null,
      "outputs": []
    },
    {
      "cell_type": "markdown",
      "metadata": {},
      "source": [
        "Both queries for internode and leaf elongation, plus the application of relational growth rules can be collected\n",
        "into a single function for convenience. This represent a single timestep for a given tree:"
      ],
      "id": "6906a8e8"
    },
    {
      "cell_type": "code",
      "metadata": {},
      "source": [
        "# Grow a tree by elongating the organs and applying growth rule\n",
        "function grow!(tree, queries)\n",
        "    elongate!(tree, queries[1])\n",
        "    elongate!(tree, queries[2])\n",
        "    rewrite!(tree)\n",
        "end"
      ],
      "id": "f0b1cbef",
      "execution_count": null,
      "outputs": []
    },
    {
      "cell_type": "markdown",
      "metadata": {},
      "source": [
        "Given that this simple model does not include competition for resources among the trees, the growth of each plant can\n",
        "be simulated independently (in a more mechanistic FSPM this would not make sense). Hence, the simulation loop can be\n",
        "defined per tree within a `simulate` function:"
      ],
      "id": "bfcb0326"
    },
    {
      "cell_type": "code",
      "metadata": {},
      "source": [
        "function simulate(tree, query, nsteps)\n",
        "    new_tree = deepcopy(tree)\n",
        "    for i in 1:nsteps\n",
        "        growth!(new_tree, query)\n",
        "    end\n",
        "    return new_tree\n",
        "end"
      ],
      "id": "f43d233c",
      "execution_count": null,
      "outputs": []
    },
    {
      "cell_type": "markdown",
      "metadata": {},
      "source": [
        "- Create a sample of growth parameters representing the population of trees\n",
        "- Create forest with regular origins\n",
        "- 6 step simulation using parallel computing\n",
        "- Create a scene and render it\n",
        "- Ray trace the forest\n",
        "- Retrieve the total radiant power absorbed for each tree\n",
        "\n",
        "\n",
        "\n",
        "\n",
        "\n",
        "\n",
        "Let's simulate a forest of 10 x 10 binary trees with a distance between (and within) rows\n",
        "of 2 meters. First we generate the original\n",
        "positions of the trees. For the position we just need to pass a `Vec` object with the\n",
        "x, y, and z coordinates of the location of each tree. The code below will generate \n",
        "a matrix with the coordinates:"
      ],
      "id": "94928698"
    },
    {
      "cell_type": "code",
      "metadata": {},
      "source": [
        "origins = [Vec(i,j,0) for i = 1:2.0:20.0, j = 1:2.0:20.0]"
      ],
      "id": "3abdd9a4",
      "execution_count": null,
      "outputs": []
    },
    {
      "cell_type": "markdown",
      "metadata": {},
      "source": [
        "We now simulate the values of the `growth` parameter, by sampling values for a normal\n",
        "distribution (in practice you would determine this distribution from experiments). \n",
        "We can implement a function that returns random values with the desired characteristics but\n",
        "take into account that `randn` implements the standard Normal distribution (so mean = 0 and \n",
        "standard deviation = 1) so we need to scale it"
      ],
      "id": "71725cbb"
    },
    {
      "cell_type": "code",
      "metadata": {},
      "source": [
        "growth_distr(n) = 0.5 .+ randn(n)./10"
      ],
      "id": "8c9f9fc1",
      "execution_count": null,
      "outputs": []
    },
    {
      "cell_type": "markdown",
      "metadata": {},
      "source": [
        "You may also use the Distributions Julia package (you will need to install it first) that allows to\n",
        "construct different distributions and sample from them. For now, let's work with this ad-hoc function\n",
        "but before we use it to generate the growth parameters of the different trees, let's visualize it\n",
        "using the Plots package (as before, you need to install it first if you have not done so already):"
      ],
      "id": "f46a48bd"
    },
    {
      "cell_type": "code",
      "metadata": {},
      "source": [
        "using Plots\n",
        "histogram(growth_distr(10_000))"
      ],
      "id": "8e3ea615",
      "execution_count": null,
      "outputs": []
    },
    {
      "cell_type": "markdown",
      "metadata": {},
      "source": [
        "So our trees will have, on average, a relative growth rate of 0.5 (like in the binary tree example) but\n",
        "each individual tree can have any value, mostly between 0.2 and 0.8. Let's generate the growth parameters\n",
        "for the 100 trees in our simulation:"
      ],
      "id": "fbd3b744"
    },
    {
      "cell_type": "code",
      "metadata": {},
      "source": [
        "growths = growth_distr(100);"
      ],
      "id": "c46bf2ea",
      "execution_count": null,
      "outputs": []
    },
    {
      "cell_type": "markdown",
      "metadata": {},
      "source": [
        "Now we can create our random forest of binary trees by calling the `create_tree` function we defined earlier\n",
        "with the correct origins and growth parameter"
      ],
      "id": "3069c13d"
    },
    {
      "cell_type": "code",
      "metadata": {},
      "source": [
        "forest = [create_tree(origins[i], growths[i]) for i in 1:100];"
      ],
      "id": "14e4443b",
      "execution_count": null,
      "outputs": []
    },
    {
      "cell_type": "markdown",
      "metadata": {},
      "source": [
        "The object `forest` contains an array of binary trees. Each tree is a different Graph, with\n",
        "its own nodes, rewriting rules and variables. This avoids having to create a large graphs to\n",
        "include all the plants in a simulation. Below we will run a simulation, first using a sequential\n",
        "approach (i.e. using one core) and then using multiple cores in our computers (please check\n",
        "https://docs.julialang.org/en/v1/manual/multi-threading/ if the different cores are not being used\n",
        "as you may need to change some settings in your computer).\n",
        "\n",
        "## Sequential simulation\n",
        "\n",
        "We can simulate the growth of each tree by applying the method `simulate` to each\n",
        "tree, creating a new version of the forest (the code below is an array comprehension)"
      ],
      "id": "ed2e63d8"
    },
    {
      "cell_type": "code",
      "metadata": {},
      "source": [
        "newforest = [simulate(tree, getInternode, 2) for tree in forest];"
      ],
      "id": "005ff1c9",
      "execution_count": null,
      "outputs": []
    },
    {
      "cell_type": "markdown",
      "metadata": {},
      "source": [
        "And we can render the forest with the function `render` as in the binary tree\n",
        "example but passing the whole forest at once"
      ],
      "id": "e9c70424"
    },
    {
      "cell_type": "code",
      "metadata": {},
      "source": [
        "render(newforest)"
      ],
      "id": "1eea5ae7",
      "execution_count": null,
      "outputs": []
    },
    {
      "cell_type": "markdown",
      "metadata": {},
      "source": [
        "If we iterate 4 more iterations we will start seeing the different individuals\n",
        "diverging in size due to the differences in growth rates"
      ],
      "id": "0c1a102d"
    },
    {
      "cell_type": "code",
      "metadata": {},
      "source": [
        "newforest = [simulate(tree, getInternode, 4) for tree in newforest];\n",
        "render(newforest)"
      ],
      "id": "73721fc8",
      "execution_count": null,
      "outputs": []
    },
    {
      "cell_type": "markdown",
      "metadata": {},
      "source": [
        "## Multithreaded simulation\n",
        "\n",
        "In the previous section, the simulation of growth was done sequentially, one tree\n",
        "after another (since the growth of a tree only depends on its own parameters). However,\n",
        "this can also be executed in multiple threads. In this case we use an explicit loop \n",
        "and execute the iterations of the loop in multiple threads using the macro `@threads`.\n",
        "Note that the rendering function can also be ran in parallel (i.e. the geometry will be\n",
        "generated separately for each plant and the merge together):"
      ],
      "id": "4e225a85"
    },
    {
      "cell_type": "code",
      "metadata": {},
      "source": [
        "using Base.Threads\n",
        "newforest = deepcopy(forest)\n",
        "@threads for i in 1:length(forest)\n",
        "    newforest[i] = simulate(forest[i], getInternode, 6)\n",
        "end\n",
        "render(newforest, parallel = true)"
      ],
      "id": "4d0dcea2",
      "execution_count": null,
      "outputs": []
    },
    {
      "cell_type": "markdown",
      "metadata": {},
      "source": [
        "An alternative way to perform the simulation is to have an outer loop for each timestep and an internal loop over the different trees. Although this approach is not required for this simple model, most FSP models will probably need such a scheme as growth of each individual plant will depend on competition for resources with neighbouring plants. In this case, this approach would look as follows:"
      ],
      "id": "0c1d4027"
    },
    {
      "cell_type": "code",
      "metadata": {},
      "source": [
        "newforest = deepcopy(forest)\n",
        "for step in 1:6\n",
        "    @threads for i in 1:length(newforest)\n",
        "        newforest[i] = simulate(newforest[i], getInternode, 1)\n",
        "    end\n",
        "end\n",
        "render(newforest, parallel = true)"
      ],
      "id": "08fbd79c",
      "execution_count": null,
      "outputs": []
    },
    {
      "cell_type": "markdown",
      "metadata": {},
      "source": [
        "# Customizing the scene\n",
        "\n",
        "Here we are going to customize the scene of our simulation by adding a horizontal tile represting soil and\n",
        "tweaking the 3D representation. When we want to combine plants generated from graphs with any other\n",
        "geometric element it is best to combine all these geometries in a `GLScene` object. We can start the scene\n",
        "with the `newforest` generated in the above:"
      ],
      "id": "ba262119"
    },
    {
      "cell_type": "code",
      "metadata": {},
      "source": [
        "scene = GLScene(newforest);"
      ],
      "id": "d2efab0a",
      "execution_count": null,
      "outputs": []
    },
    {
      "cell_type": "markdown",
      "metadata": {},
      "source": [
        "We can create the soil tile directly, without having to create a graph. The simplest approach is two use \n",
        "a special constructor `Rectangle` where one species a corner of the rectangle and two vectors defining the\n",
        "two sides of the vectors. Both the sides and the corner need to be specified with `Vec` just like in the\n",
        "above when we determined the origin of each plant. VPL offers some shortcuts: `O()` returns the origin\n",
        "(`Vec(0.0, 0.0, 0.0)`), whereas `X`, `Y` and `Z` returns the corresponding axes and you can scale them by \n",
        "passing the desired length as input. Below, a rectangle is created on the XY plane with the origin as a \n",
        "corner and each side being 11 units long:"
      ],
      "id": "317c78ef"
    },
    {
      "cell_type": "code",
      "metadata": {},
      "source": [
        "soil = Rectangle(O(), Y(21.0), X(21.0)); # (corner, side1, side2)"
      ],
      "id": "7eb49e1e",
      "execution_count": null,
      "outputs": []
    },
    {
      "cell_type": "markdown",
      "metadata": {},
      "source": [
        "We can now add the `soil` to the `scene` object with the `add!` function."
      ],
      "id": "d2a1b841"
    },
    {
      "cell_type": "code",
      "metadata": {},
      "source": [
        "VPL.add!(scene = scene, mesh = soil, color = RGB(1,1,0))"
      ],
      "id": "22d56d43",
      "execution_count": null,
      "outputs": []
    },
    {
      "cell_type": "markdown",
      "metadata": {},
      "source": [
        "We can now render the scene that combines the random forest of binary trees and a yellow soil. Notice that\n",
        "in all previous figures, a coordinate system with grids was being depicted. This is helpful for debugging\n",
        "your code but also to help setup the scene (e.g. if you are not sure how big the soil tile should be).\n",
        "Howver, it may be distracting for the visualization. It turns out that we can turn that off with\n",
        "`show_axes = false`:"
      ],
      "id": "791bc67e"
    },
    {
      "cell_type": "code",
      "metadata": {},
      "source": [
        "render(scene, axes = false)"
      ],
      "id": "bbd0daa2",
      "execution_count": null,
      "outputs": []
    },
    {
      "cell_type": "markdown",
      "metadata": {},
      "source": [
        "We may also want to save a screenshot of the scene. For this, we need to store the output of the `render` function.\n",
        "We can then resize the window rendering the scene, move around, zoom, etc. When we have a perspective that we like,\n",
        "we can run the `save_scene` function on the object returned from `render`. The argument `resolution` can be adjust in both\n",
        "`render` and `save_scene` (the image will have the correct number of pixels but it looks much worse than in the original\n",
        "window...):"
      ],
      "id": "b3af5bea"
    },
    {
      "cell_type": "code",
      "metadata": {},
      "source": [
        "#| eval: false\n",
        "output = render(scene, axes = false)\n",
        "# Play around with the scene\n",
        "export_scene(\"nice_trees.png\", output) "
      ],
      "id": "66907ae8",
      "execution_count": null,
      "outputs": []
    }
  ],
  "metadata": {
    "kernelspec": {
      "name": "julia-nodeps-1.8",
      "language": "julia",
      "display_name": "Julia nodeps 1.8.2"
    }
  },
  "nbformat": 4,
  "nbformat_minor": 5
}